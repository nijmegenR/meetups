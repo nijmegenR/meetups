{
 "cells": [
  {
   "cell_type": "markdown",
   "metadata": {
    "nbpresent": {
     "id": "72cae67f-7d9d-49f1-909d-e6f070f0094a"
    },
    "slideshow": {
     "slide_type": "slide"
    }
   },
   "source": [
    "# Can we predict crime rates in a borough through demographic data?"
   ]
  },
  {
   "cell_type": "markdown",
   "metadata": {
    "nbpresent": {
     "id": "be565d4d-5356-49b5-9b3c-07b922798a1c"
    },
    "slideshow": {
     "slide_type": "slide"
    }
   },
   "source": [
    "The tools we will use are Python, R and h2o."
   ]
  },
  {
   "cell_type": "markdown",
   "metadata": {
    "nbpresent": {
     "id": "29b62d54-a38e-4554-a358-598808c21d5c"
    },
    "slideshow": {
     "slide_type": "slide"
    }
   },
   "source": [
    "## Get the tools set up\n",
    "Let's start off with Python and import the necessary modules."
   ]
  },
  {
   "cell_type": "code",
   "execution_count": null,
   "metadata": {
    "collapsed": false,
    "nbpresent": {
     "id": "32eb9bb6-ef0d-4b1f-a09b-77afdd18ece0"
    },
    "slideshow": {
     "slide_type": "fragment"
    }
   },
   "outputs": [],
   "source": [
    "from __future__ import print_function\n",
    "import pandas as pd\n",
    "import geopandas as gpd\n",
    "import matplotlib as mpl\n",
    "import matplotlib.pyplot as plt\n",
    "from ipywidgets.widgets import interact, Text\n",
    "from IPython.display import display\n",
    "import feather"
   ]
  },
  {
   "cell_type": "markdown",
   "metadata": {
    "nbpresent": {
     "id": "fd9f42e1-c1a1-45d4-90cd-445ac5bf15fc"
    },
    "slideshow": {
     "slide_type": "slide"
    }
   },
   "source": [
    "Now issue a *magic* instruction to have graphical output embedded in this notebook,\n",
    "and set some defaults."
   ]
  },
  {
   "cell_type": "code",
   "execution_count": null,
   "metadata": {
    "collapsed": false,
    "nbpresent": {
     "id": "083010da-07de-42bd-8f66-53db71086885"
    },
    "slideshow": {
     "slide_type": "subslide"
    }
   },
   "outputs": [],
   "source": [
    "# use the notebook definition for interactive embedded graphics\n",
    "# %matplotlib notebook\n",
    "\n",
    "# use the inline definition for static embedded graphics\n",
    "%matplotlib inline \n",
    "\n",
    "rcParam = {\n",
    "    'figure.figsize': (12,6),\n",
    "    'font.weight': 'bold',\n",
    "    'axes.labelsize': 20.0,\n",
    "    'axes.titlesize': 20.0,\n",
    "    'axes.titleweight': 'bold',\n",
    "    'legend.fontsize': 14,\n",
    "    'xtick.labelsize': 14,\n",
    "    'ytick.labelsize': 14,\n",
    "}\n",
    "\n",
    "for key in rcParam:\n",
    "    mpl.rcParams[key] = rcParam[key]"
   ]
  },
  {
   "cell_type": "markdown",
   "metadata": {
    "nbpresent": {
     "id": "cbad8a5b-f8b8-4491-9c0e-b88f5fd6ca6c"
    },
    "slideshow": {
     "slide_type": "subslide"
    }
   },
   "source": [
    "This is a Python notebook, but we can embed other languages as well.\n",
    "\n",
    "If we precede a code cell with `%%R` the rest will be handled by the R-interpreter.\n",
    "For this to work, we need to load the `rpy2.ipython` extension."
   ]
  },
  {
   "cell_type": "code",
   "execution_count": null,
   "metadata": {
    "collapsed": false,
    "nbpresent": {
     "id": "0b8ec7dc-7a5a-4a42-b02e-13cf3c3f02bd"
    }
   },
   "outputs": [],
   "source": [
    "import rpy2\n",
    "%load_ext rpy2.ipython"
   ]
  },
  {
   "cell_type": "markdown",
   "metadata": {
    "nbpresent": {
     "id": "a79749ee-ab51-4200-976a-deecc9ee4bfa"
    },
    "slideshow": {
     "slide_type": "slide"
    }
   },
   "source": [
    "## Get the data\n",
    "We will use 2 datasets:"
   ]
  },
  {
   "cell_type": "markdown",
   "metadata": {
    "nbpresent": {
     "id": "4ca33a8c-8826-487a-adb7-74d134b70d4c"
    },
    "slideshow": {
     "slide_type": "fragment"
    }
   },
   "source": [
    "* Crime figures"
   ]
  },
  {
   "cell_type": "markdown",
   "metadata": {
    "nbpresent": {
     "id": "3194d2bf-c7b7-4cd1-86e9-7532b015a22c"
    },
    "slideshow": {
     "slide_type": "fragment"
    }
   },
   "source": [
    "* Demographic data"
   ]
  },
  {
   "cell_type": "markdown",
   "metadata": {
    "nbpresent": {
     "id": "ea3d54a2-5051-4184-a2c4-606a27b26df5"
    },
    "slideshow": {
     "slide_type": "slide"
    }
   },
   "source": [
    "### Crime figures\n",
    "The Dutch institute *CBS* (Centraal Bureau voor de Statistiek) provides crime figures for all \n",
    "municipalities, towns and even boroughs in the Netherlands.\n",
    "\n",
    "It is provided as a Microsoft Excel spreadsheet with separate sheets for the years 2010 through to 2015.\n",
    "You can download it from \n",
    "`https://www.cbs.nl/-/media/_excel/2016/45/Geregistreerde-criminaliteit-per-gemeente-wijk-en-buurt-2010-2015.xlsx`\n",
    "or use the file provided."
   ]
  },
  {
   "cell_type": "code",
   "execution_count": null,
   "metadata": {
    "collapsed": true,
    "nbpresent": {
     "id": "6b9f4391-e420-43c4-8bdb-2fb753ad7fee"
    },
    "slideshow": {
     "slide_type": "subslide"
    }
   },
   "outputs": [],
   "source": [
    "cbs_crime_url = (\n",
    "#    \"https://www.cbs.nl/-/media/_excel/2016/45/\"\n",
    "    \"Geregistreerde-criminaliteit-per-gemeente-wijk-en-buurt-2010-2015.xlsx\"\n",
    ") "
   ]
  },
  {
   "cell_type": "markdown",
   "metadata": {
    "nbpresent": {
     "id": "5f5e1ae8-c97b-46d1-9f52-8fd913060ad4"
    },
    "slideshow": {
     "slide_type": "-"
    }
   },
   "source": [
    "The names of the columns in the spreadsheet are provided in several header rows.\n",
    "That's why we need to provide the column names separately."
   ]
  },
  {
   "cell_type": "code",
   "execution_count": null,
   "metadata": {
    "collapsed": true,
    "nbpresent": {
     "id": "8a739825-d8a9-4480-a15b-8009a492dc45"
    },
    "slideshow": {
     "slide_type": "subslide"
    }
   },
   "outputs": [],
   "source": [
    "columns = [\n",
    "    \"Regiocode\",\n",
    "    \"Regionaam\",\n",
    "    \"Inwoners\",\n",
    "    \"Vermogen, vernieling en geweld\",\n",
    "    \"Vermogensmisdrijven\",\n",
    "    \"Diefstal\",\n",
    "    \"Fietsendiefstal\",\n",
    "    \"Diefstal overige vervoersmiddelen\",\n",
    "    \"Diefstal uit of vanaf vervoermiddelen\",\n",
    "    \"Zakkenrollerij, straatroof en beroving\",\n",
    "    \"Woninginbraak (incl schuur, garage(box) en tuinhuis)\",\n",
    "    \"Diefstal/inbraak uit niet-residentiele gebouwen\",\n",
    "    \"Overige diefstal/inbraak\",\n",
    "    \"Overige vermogensmisdrijven\",\n",
    "    \"Vernielingen en misdrijven tegen openbare orde en gezag\",\n",
    "    \"Vernielingen\",\n",
    "    \"Vernieling aan auto\",\n",
    "    \"Overige vernieling\",\n",
    "    \"Misdrijven tegen openbare orde en gezag\",\n",
    "    \"Gewelds- en seksuele misdrijven\",\n",
    "    \"Mishandeling\",\n",
    "    \"Bedreiging en stalking\",\n",
    "    \"Overige gewelds- en seksuele misdrijven\",\n",
    "    \"Totaal vermogen, vernieling en geweld (rel)\",\n",
    "    \"Vermogensmisdrijven (rel)\",\n",
    "    \"Diefstal/inbraak woning (rel)\",\n",
    "    \"Vernieling en openbare orde (rel)\",\n",
    "    \"Gewelds- en seksuele misdrijven (rel)\"\n",
    "    ] "
   ]
  },
  {
   "cell_type": "markdown",
   "metadata": {
    "nbpresent": {
     "id": "1f97d55e-6cd8-4087-b00b-ed4266e4df30"
    },
    "slideshow": {
     "slide_type": "subslide"
    }
   },
   "source": [
    "Now, define a function `read_crime()` to read in one of the sheets from the spreadsheet."
   ]
  },
  {
   "cell_type": "code",
   "execution_count": null,
   "metadata": {
    "collapsed": false,
    "nbpresent": {
     "id": "bb8dc3f4-b5e9-470c-acc4-cf9fe4294cee"
    },
    "slideshow": {
     "slide_type": "subslide"
    }
   },
   "outputs": [],
   "source": [
    "def read_crime(url, year):\n",
    "    sheetnames = {\n",
    "        2010:'Tabel 1',\n",
    "        2011:'Tabel 2',\n",
    "        2012:'Tabel 3',\n",
    "        2013:'Tabel 4',\n",
    "        2014:'Tabel 5',\n",
    "        2015:'Tabel 6'\n",
    "        }\n",
    "    try:\n",
    "        sheet = sheetnames[int(year)]\n",
    "    except KeyError:\n",
    "        raise Exception(\"No crime data for the year {} available\".format(year))\n",
    "        \n",
    "    crime_df = pd.read_excel(url, sheetname=sheet,\n",
    "        header=None, names=columns, skiprows=6, na_values=\".\")\n",
    "    return crime_df"
   ]
  },
  {
   "cell_type": "markdown",
   "metadata": {
    "nbpresent": {
     "id": "74da5a9d-282a-45be-9186-e72d401fedd7"
    },
    "slideshow": {
     "slide_type": "subslide"
    }
   },
   "source": [
    "Use our function to read in Dutch crime rates from 2015..."
   ]
  },
  {
   "cell_type": "code",
   "execution_count": null,
   "metadata": {
    "collapsed": false,
    "nbpresent": {
     "id": "ba49b325-46b9-4da6-bf8b-d47d3a7248fc"
    }
   },
   "outputs": [],
   "source": [
    "crime_2015 = read_crime(cbs_crime_url, 2015)"
   ]
  },
  {
   "cell_type": "markdown",
   "metadata": {
    "nbpresent": {
     "id": "6bbe3233-cc64-454c-9241-8195b21a3d42"
    },
    "slideshow": {
     "slide_type": "subslide"
    }
   },
   "source": [
    "... and have peek"
   ]
  },
  {
   "cell_type": "code",
   "execution_count": null,
   "metadata": {
    "collapsed": false,
    "nbpresent": {
     "id": "2233e8a9-0bb9-4bd3-88a5-01e8583ad03d"
    }
   },
   "outputs": [],
   "source": [
    "crime_2015.head()"
   ]
  },
  {
   "cell_type": "markdown",
   "metadata": {
    "nbpresent": {
     "id": "ad123ba4-f806-4832-95f7-ec1534d9d9af"
    },
    "slideshow": {
     "slide_type": "subslide"
    }
   },
   "source": [
    "and basic statistics:"
   ]
  },
  {
   "cell_type": "code",
   "execution_count": null,
   "metadata": {
    "collapsed": false,
    "nbpresent": {
     "id": "d35de68f-620c-4b6f-945a-fe5d9cec37d1"
    },
    "scrolled": true
   },
   "outputs": [],
   "source": [
    "crime_2015.describe()"
   ]
  },
  {
   "cell_type": "markdown",
   "metadata": {
    "nbpresent": {
     "id": "754e1e01-bea2-4482-879d-3f031020b710"
    },
    "slideshow": {
     "slide_type": "slide"
    }
   },
   "source": [
    "### Demographic Data\n",
    "\n",
    "Also from the *CBS* is a file `shape 2014 versie 30.zip`\n",
    "with demographic features, as well as geographic date in `shape` format.\n",
    "\n",
    "The zip file contains files for municipalities (gemeenten), districts (wijken) and boroughs (buurten).\n",
    "We will only use the latter.\n",
    "(This was done by unzipping the file and putting the contained files `buurt_2014.*` in a folder `buurten`.)"
   ]
  },
  {
   "cell_type": "code",
   "execution_count": null,
   "metadata": {
    "collapsed": false,
    "nbpresent": {
     "id": "311eb4ac-6187-4b46-b347-f59ccdb3e438"
    }
   },
   "outputs": [],
   "source": [
    "cbs_demographic = 'buurten'"
   ]
  },
  {
   "cell_type": "markdown",
   "metadata": {
    "nbpresent": {
     "id": "a8ed42ee-33c0-4fb9-8ed6-fb0832fb5537"
    },
    "slideshow": {
     "slide_type": "subslide"
    }
   },
   "source": [
    "Now, we'll create a function `read_shape()` that reads this data."
   ]
  },
  {
   "cell_type": "code",
   "execution_count": null,
   "metadata": {
    "collapsed": true,
    "nbpresent": {
     "id": "5740f5db-d52d-4833-90f8-fde2f2f03471"
    }
   },
   "outputs": [],
   "source": [
    "def read_shape(shape_file):\n",
    "    def center(geom):\n",
    "        try:\n",
    "            centroid = geom.representative_point().coords[:][0]\n",
    "        except Exception as e:\n",
    "            x_min, y_min, x_max, y_max = geom.bounds\n",
    "            centroid = (x_min + x_max)/2, (y_min + y_max)/2\n",
    "        return centroid\n",
    "    \n",
    "    df = gpd.read_file(shape_file)\n",
    "    df['center'] = df['geometry'].apply(center)\n",
    "    df = df.where(df > -9999999., gpd.np.NaN)\n",
    "    df['Regiocode'] = df['BU_CODE']\n",
    "    df.set_index(['GM_CODE', 'WK_CODE', 'BU_CODE'], inplace=True)\n",
    "    return df"
   ]
  },
  {
   "cell_type": "markdown",
   "metadata": {
    "nbpresent": {
     "id": "6fda3803-4d8b-49b6-9f3e-189a1396736e"
    },
    "slideshow": {
     "slide_type": "subslide"
    }
   },
   "source": [
    "Read in the demographic data for all boroughs in the Netherlands..."
   ]
  },
  {
   "cell_type": "code",
   "execution_count": null,
   "metadata": {
    "collapsed": false,
    "nbpresent": {
     "id": "a179fba6-7aec-489c-b60f-75a4059d822d"
    }
   },
   "outputs": [],
   "source": [
    "nederland = read_shape(cbs_demographic)"
   ]
  },
  {
   "cell_type": "markdown",
   "metadata": {
    "nbpresent": {
     "id": "094cebfa-8f09-4cce-a650-b191db023561"
    },
    "slideshow": {
     "slide_type": "subslide"
    }
   },
   "source": [
    "... and have a preview:"
   ]
  },
  {
   "cell_type": "code",
   "execution_count": null,
   "metadata": {
    "collapsed": false,
    "nbpresent": {
     "id": "77f201fa-4e81-46b9-a55d-92d043c76dd9"
    }
   },
   "outputs": [],
   "source": [
    "nederland.head()"
   ]
  },
  {
   "cell_type": "markdown",
   "metadata": {
    "nbpresent": {
     "id": "baa3ac38-c31f-4f8c-86d3-bcc14d5a4644"
    },
    "slideshow": {
     "slide_type": "slide"
    }
   },
   "source": [
    "## Combining data\n",
    "\n",
    "Next, combine our two datasets.\n",
    "Both have a column `Regiocode`, which is a unique code per borough.\n",
    "This column is used to join the datasets."
   ]
  },
  {
   "cell_type": "code",
   "execution_count": null,
   "metadata": {
    "collapsed": true,
    "nbpresent": {
     "id": "411f55ee-666c-467f-bbfb-a13e8fbb1ea6"
    }
   },
   "outputs": [],
   "source": [
    "nl_crime_2015 = nederland.merge(crime_2015, on='Regiocode')"
   ]
  },
  {
   "cell_type": "markdown",
   "metadata": {
    "nbpresent": {
     "id": "29be41a9-2728-472e-af01-873af217b585"
    },
    "slideshow": {
     "slide_type": "slide"
    }
   },
   "source": [
    "## Exploring data\n",
    "\n",
    "Wouldn't it be great if we had the tool to quickly explore our data?\n",
    "\n",
    "Well, we have. With *ipywidgets* we can make a UI-wrapper around a simple plot function.\n",
    "\n",
    "If we want to change a single variable we should have a function with just that variable.\n",
    "In this case we want a UI in which we can select the feature to show."
   ]
  },
  {
   "cell_type": "markdown",
   "metadata": {
    "nbpresent": {
     "id": "cb76337c-daf0-4457-9f83-0df0fb4c69cd"
    },
    "slideshow": {
     "slide_type": "subslide"
    }
   },
   "source": [
    "In the code below you this function is called `do_plot()`.\n",
    "If this function must have a single argument ('`feature`'), then how will we provide the dataset to\n",
    "plot, and possibly any additional arguments?\n",
    "\n",
    "This is done by the function `mk_feature_plot` that creates the function `do_plot()` on the fly,\n",
    "and passes its variables to this created function.\n",
    "In other words, `mk_feature_plot()` is a factory that creates functions.\n",
    "The design pattern is called *closure*."
   ]
  },
  {
   "cell_type": "code",
   "execution_count": null,
   "metadata": {
    "collapsed": true,
    "nbpresent": {
     "id": "b2d44071-6f69-4b6d-8799-3dcd79a3845d"
    },
    "slideshow": {
     "slide_type": "subslide"
    }
   },
   "outputs": [],
   "source": [
    "def mk_feature_plot(dframe, **kwargs):\n",
    "    new_kwargs = dict(\n",
    "        cmap='OrRd',\n",
    "        linewidth=0.2,\n",
    "        label=False\n",
    "    )\n",
    "    new_kwargs.update(kwargs)\n",
    "\n",
    "    def do_plot(feature):\n",
    "        ax = dframe.plot(column=feature, **new_kwargs)\n",
    "        ax.set_xticks([])\n",
    "        ax.set_yticks([])\n",
    "        ax.set_title(feature)\n",
    "\n",
    "        if new_kwargs['label']:\n",
    "            for idx, row in dframe.iterrows():\n",
    "                plt.annotate(s=row[feature], xy=row['center'],\n",
    "                             horizontalalignment='center', fontsize=6)\n",
    "    return do_plot"
   ]
  },
  {
   "cell_type": "markdown",
   "metadata": {
    "nbpresent": {
     "id": "693bcf70-3bfb-48d6-a95f-8d38014b0347"
    },
    "slideshow": {
     "slide_type": "subslide"
    }
   },
   "source": [
    "Create a subset with only the boroughs in Nijmegen."
   ]
  },
  {
   "cell_type": "code",
   "execution_count": null,
   "metadata": {
    "collapsed": false,
    "nbpresent": {
     "id": "1d40c8b3-fb05-4a5c-aa4c-ece16b57aaa3"
    }
   },
   "outputs": [],
   "source": [
    "nijmegen = nl_crime_2015[nl_crime_2015['GM_NAAM']=='Nijmegen']"
   ]
  },
  {
   "cell_type": "markdown",
   "metadata": {
    "nbpresent": {
     "id": "15f6d663-bf59-46c0-ac0f-29db9d48ab96"
    },
    "slideshow": {
     "slide_type": "subslide"
    }
   },
   "source": [
    "The function interact from ipywidgets expects as arguments a function and its arguments.\n",
    "\n",
    "In this case the function has only one argument: `feature`."
   ]
  },
  {
   "cell_type": "code",
   "execution_count": null,
   "metadata": {
    "collapsed": false,
    "nbpresent": {
     "id": "d50a60bc-e2e0-438e-9944-fc20ccaca4c9"
    },
    "scrolled": false,
    "slideshow": {
     "slide_type": "subslide"
    }
   },
   "outputs": [],
   "source": [
    "interact(\n",
    "    mk_feature_plot(nijmegen, alpha=0.7,\n",
    "                    label=True, cmap='seismic'),\n",
    "    feature=list(nijmegen.columns));"
   ]
  },
  {
   "cell_type": "markdown",
   "metadata": {
    "nbpresent": {
     "id": "29524e0d-5452-4917-a60e-2fd54c4b7942"
    },
    "slideshow": {
     "slide_type": "subslide"
    }
   },
   "source": [
    "We can also use a function that takes two arguments: `city` and `feature`.\n",
    "Let's make the function factory `mk_city_feature()` that creates such functions."
   ]
  },
  {
   "cell_type": "code",
   "execution_count": null,
   "metadata": {
    "collapsed": true,
    "nbpresent": {
     "id": "0f7092f7-d0d2-46a5-97cf-9a5ca0bd1644"
    },
    "slideshow": {
     "slide_type": "subslide"
    }
   },
   "outputs": [],
   "source": [
    "def mk_city_feature_plot(dframe, **kwargs):\n",
    "    new_kwargs = dict(\n",
    "        cmap='OrRd',\n",
    "        linewidth=0.2,\n",
    "        label=False\n",
    "    )\n",
    "    new_kwargs.update(kwargs)\n",
    "\n",
    "    def do_plot(city, feature):\n",
    "        df = dframe[dframe['GM_NAAM']==city]\n",
    "        ax = df.plot(column=feature, **new_kwargs)\n",
    "        ax.set_xticks([])\n",
    "        ax.set_yticks([])\n",
    "        ax.set_title(\"%s in %s\" % (feature, city))\n",
    "\n",
    "        if new_kwargs['label']:\n",
    "            for idx, row in df.iterrows():\n",
    "                plt.annotate(s=row[feature], xy=row['center'],\n",
    "                             horizontalalignment='center', fontsize=6)\n",
    "    return do_plot"
   ]
  },
  {
   "cell_type": "markdown",
   "metadata": {
    "nbpresent": {
     "id": "c900225e-4689-4388-8abd-a90c3e8307a1"
    },
    "slideshow": {
     "slide_type": "subslide"
    }
   },
   "source": [
    "Now use `interact()` to create a user interface with this function."
   ]
  },
  {
   "cell_type": "code",
   "execution_count": null,
   "metadata": {
    "collapsed": false,
    "nbpresent": {
     "id": "141d712d-0602-4ad2-9e66-6570a2ebaaa8"
    }
   },
   "outputs": [],
   "source": [
    "interact(\n",
    "    mk_city_feature_plot(nl_crime_2015, label=True,\n",
    "                         alpha=0.7, cmap='seismic'),\n",
    "    city=\"Arnhem Overbetuwe Nijmegen Beuningen Groesbeek\".split(),\n",
    "    feature=list(nl_crime_2015.columns));"
   ]
  },
  {
   "cell_type": "markdown",
   "metadata": {
    "nbpresent": {
     "id": "ed11d01e-54b3-49be-994b-2b733caf9b48"
    },
    "slideshow": {
     "slide_type": "slide"
    }
   },
   "source": [
    "## Data massaging\n",
    "\n",
    "Strip the geometric data from the data set and write out in the very efficient `feather` format,"
   ]
  },
  {
   "cell_type": "code",
   "execution_count": null,
   "metadata": {
    "collapsed": false,
    "nbpresent": {
     "id": "1a612e85-1860-4c29-a457-0cc275c5bbc5"
    },
    "slideshow": {
     "slide_type": "subslide"
    }
   },
   "outputs": [],
   "source": [
    "nl_crime_2015_no_geo = nl_crime_2015.copy()\n",
    "\n",
    "del nl_crime_2015_no_geo['geometry']\n",
    "del nl_crime_2015_no_geo['center']\n",
    "\n",
    "feather.write_dataframe(nl_crime_2015_no_geo, 'nl_crime_2015.fthr')"
   ]
  },
  {
   "cell_type": "markdown",
   "metadata": {
    "nbpresent": {
     "id": "2aa805c8-5fc4-4fbd-90a8-359e0cee7189"
    },
    "slideshow": {
     "slide_type": "slide"
    }
   },
   "source": [
    "## Machine learning\n",
    "\n",
    "In R, import the necessary libraries and start up the h2o machine learning cluster.\n",
    "\n",
    "Pick up the `feather` dataset in R and split it into a test set (Nijmegen) and a training set\n",
    "(the rest of the Netherlands).\n",
    "\n",
    "Feed the latter to h2o. The outcome is a model that fits the demographic variables to the  crime rate.\n",
    "A General Linear Model (*GLM*) is created (although, arguably, better model types are applicable).\n",
    "\n",
    "Finally, the model is used to predict crime rates in Nijmegen's boroughs, based on the demographic figures."
   ]
  },
  {
   "cell_type": "code",
   "execution_count": null,
   "metadata": {
    "collapsed": false,
    "nbpresent": {
     "id": "70448c04-2024-4584-825a-c1ab8e362dee"
    },
    "slideshow": {
     "slide_type": "subslide"
    }
   },
   "outputs": [],
   "source": [
    "%%R\n",
    "library(h2o)\n",
    "library(feather)\n",
    "library(MASS)\n",
    "localH2O = h2o.init(nthreads = -1)"
   ]
  },
  {
   "cell_type": "code",
   "execution_count": null,
   "metadata": {
    "collapsed": false,
    "nbpresent": {
     "id": "ad66db1b-a0dd-4641-8d30-0eaa8c1b3b90"
    }
   },
   "outputs": [],
   "source": [
    "%%R\n",
    "#mLoad the data and prepare for modeling\n",
    "nld = read_feather(\"nl_crime_2015.fthr\")\n",
    "nld[sapply(nld, is.character)] <- lapply(nld[sapply(nld, is.character)], as.factor)\n",
    "\n",
    "#make a Nijmegen subset\n",
    "nijmegen = nld[nld$GM_NAAM==\"Nijmegen\",]\n",
    "#convert into h2o table type\n",
    "nijmegen = as.h2o(nijmegen)\n",
    "\n",
    "#make a subset of Netherland w/o Nijmegen\n",
    "rest_van_nld = nld[nld$GM_NAAM!=\"Nijmegen\",]\n",
    "#convert into h2o table type\n",
    "rest_van_nld = as.h2o(rest_van_nld)\n",
    "\n",
    "thecolumns = colnames(rest_van_nld)\n",
    "poisson.fit = h2o.glm(x = thecolumns[1:190], y = \"Vermogen, vernieling en geweld\", rest_van_nld, family = \"poisson\")\n",
    "\n",
    "prediction = predict(poisson.fit, nijmegen)\n",
    "\n",
    "nijmegentotaal = nijmegen\n",
    "nijmegentotaal$prediction = prediction\n",
    "\n",
    "nijmegentotaal"
   ]
  },
  {
   "cell_type": "code",
   "execution_count": null,
   "metadata": {
    "collapsed": true
   },
   "outputs": [],
   "source": [
    "%%R\n",
    "# Merge data frames\n",
    "shapeinfo = read.csv(\"shapeInfo.csv\")"
   ]
  },
  {
   "cell_type": "code",
   "execution_count": null,
   "metadata": {
    "collapsed": false
   },
   "outputs": [],
   "source": [
    "%%R\n",
    "library(ggplot2)\n",
    "library(ggmap)\n",
    "## Plot data\n",
    "mapCenter <- geocode(\"Nijmegen\")\n",
    "Nijmegen <- get_map(c(lon=mapCenter$lon, lat=mapCenter$lat),zoom = 12)#, maptype = \"terrain\", source=\"stamen\")\n",
    "NijmegenMap <- ggmap(Nijmegen)\n",
    "NijmegenMap <- NijmegenMap +\n",
    "  geom_polygon(aes(x=long, y=lat, group=group, fill=prediction),\n",
    "               size=.2 ,color='black', data=as.data.frame(nijmegentotaal), alpha=0.8) +\n",
    "  scale_fill_gradient(low = \"green\", high = \"red\")\n",
    "NijmegenMap"
   ]
  }
 ],
 "metadata": {
  "anaconda-cloud": {},
  "kernelspec": {
   "display_name": "Python 3",
   "language": "python",
   "name": "python3"
  },
  "language_info": {
   "codemirror_mode": {
    "name": "ipython",
    "version": 3
   },
   "file_extension": ".py",
   "mimetype": "text/x-python",
   "name": "python",
   "nbconvert_exporter": "python",
   "pygments_lexer": "ipython3",
   "version": "3.5.1"
  },
  "livereveal": {
   "start_slideshow_at": "selected",
   "theme": "solarized",
   "transition": "zoom"
  }
 },
 "nbformat": 4,
 "nbformat_minor": 1
}
