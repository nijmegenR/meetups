{
 "cells": [
  {
   "cell_type": "markdown",
   "metadata": {
    "slideshow": {
     "slide_type": "slide"
    }
   },
   "source": [
    "# Can we predict crime rates in a borough through demographic data?"
   ]
  },
  {
   "cell_type": "markdown",
   "metadata": {
    "slideshow": {
     "slide_type": "slide"
    }
   },
   "source": [
    "The tools we will use are Python, R and h2o."
   ]
  },
  {
   "cell_type": "markdown",
   "metadata": {
    "slideshow": {
     "slide_type": "slide"
    }
   },
   "source": [
    "## Get the tools set up\n",
    "Let's start off with Python and import the necessary modules."
   ]
  },
  {
   "cell_type": "code",
   "execution_count": null,
   "metadata": {
    "collapsed": false,
    "nbpresent": {
     "id": "32eb9bb6-ef0d-4b1f-a09b-77afdd18ece0"
    },
    "slideshow": {
     "slide_type": "fragment"
    }
   },
   "outputs": [],
   "source": [
    "from __future__ import print_function\n",
    "import pandas as pd\n",
    "import geopandas as gpd\n",
    "import matplotlib as mpl\n",
    "import matplotlib.pyplot as plt\n",
    "from ipywidgets.widgets import interact, Text\n",
    "from IPython.display import display\n",
    "import feather"
   ]
  },
  {
   "cell_type": "markdown",
   "metadata": {
    "slideshow": {
     "slide_type": "slide"
    }
   },
   "source": [
    "Now issue a *magic* instruction to have graphical output embedded in this notebook,\n",
    "and set some defaults."
   ]
  },
  {
   "cell_type": "code",
   "execution_count": null,
   "metadata": {
    "collapsed": false,
    "slideshow": {
     "slide_type": "subslide"
    }
   },
   "outputs": [],
   "source": [
    "# use the notebook definition for interactive embedded graphics\n",
    "# %matplotlib notebook\n",
    "\n",
    "# use the inline definition for static embedded graphics\n",
    "%matplotlib inline \n",
    "\n",
    "rcParam = {\n",
    "    'figure.figsize': (12,6),\n",
    "    'font.weight': 'bold',\n",
    "    'axes.labelsize': 20.0,\n",
    "    'axes.titlesize': 20.0,\n",
    "    'axes.titleweight': 'bold',\n",
    "    'legend.fontsize': 14,\n",
    "    'xtick.labelsize': 14,\n",
    "    'ytick.labelsize': 14,\n",
    "}\n",
    "\n",
    "for key in rcParam:\n",
    "    mpl.rcParams[key] = rcParam[key]"
   ]
  },
  {
   "cell_type": "markdown",
   "metadata": {
    "slideshow": {
     "slide_type": "subslide"
    }
   },
   "source": [
    "This is a Python notebook, but we can embed other languages as well.\n",
    "\n",
    "If we precede a code cell with `%%R` the rest will be handled by the R-interpreter.\n",
    "For this to work, we need to load the `rpy2.ipython` extension."
   ]
  },
  {
   "cell_type": "code",
   "execution_count": null,
   "metadata": {
    "collapsed": false
   },
   "outputs": [],
   "source": [
    "import rpy2\n",
    "%load_ext rpy2.ipython"
   ]
  },
  {
   "cell_type": "markdown",
   "metadata": {
    "slideshow": {
     "slide_type": "slide"
    }
   },
   "source": [
    "## Get the data\n",
    "We will use 2 datasets:"
   ]
  },
  {
   "cell_type": "markdown",
   "metadata": {
    "slideshow": {
     "slide_type": "fragment"
    }
   },
   "source": [
    "* Crime figures"
   ]
  },
  {
   "cell_type": "markdown",
   "metadata": {
    "slideshow": {
     "slide_type": "fragment"
    }
   },
   "source": [
    "* Demographic data"
   ]
  },
  {
   "cell_type": "code",
   "execution_count": null,
   "metadata": {
    "collapsed": false
   },
   "outputs": [],
   "source": [
    "%%bash\n",
    "wget -nv -nc https://github.com/nijmegenR/meetups/raw/master/2017-01-25-meetINN-meetup/data.zip\n",
    "if [ -f data.zip ]; then unzip -n data.zip; fi"
   ]
  },
  {
   "cell_type": "markdown",
   "metadata": {
    "slideshow": {
     "slide_type": "slide"
    }
   },
   "source": [
    "### Crime figures\n",
    "The Dutch institute *CBS* (Centraal Bureau voor de Statistiek) provides crime figures for all \n",
    "municipalities, towns and even boroughs in the Netherlands.\n",
    "\n",
    "It is provided as a Microsoft Excel spreadsheet with separate sheets for the years 2010 through to 2015.\n",
    "You can download it from \n",
    "`https://www.cbs.nl/-/media/_excel/2016/45/Geregistreerde-criminaliteit-per-gemeente-wijk-en-buurt-2010-2015.xlsx`\n",
    "or use the file provided."
   ]
  },
  {
   "cell_type": "code",
   "execution_count": null,
   "metadata": {
    "collapsed": true,
    "slideshow": {
     "slide_type": "subslide"
    }
   },
   "outputs": [],
   "source": [
    "cbs_crime_url = (\n",
    "#    \"https://www.cbs.nl/-/media/_excel/2016/45/\"\n",
    "    \"Geregistreerde-criminaliteit-per-gemeente-wijk-en-buurt-2010-2015.xlsx\"\n",
    ")"
   ]
  },
  {
   "cell_type": "markdown",
   "metadata": {
    "slideshow": {
     "slide_type": "-"
    }
   },
   "source": [
    "The names of the columns in the spreadsheet are provided in several header rows.\n",
    "That's why we need to provide the column names separately."
   ]
  },
  {
   "cell_type": "code",
   "execution_count": null,
   "metadata": {
    "collapsed": true,
    "slideshow": {
     "slide_type": "subslide"
    }
   },
   "outputs": [],
   "source": [
    "columns = [\n",
    "    \"Regiocode\",\n",
    "    \"Regionaam\",\n",
    "    \"Inwoners\",\n",
    "    \"Vermogen, vernieling en geweld\",\n",
    "    \"Vermogensmisdrijven\",\n",
    "    \"Diefstal\",\n",
    "    \"Fietsendiefstal\",\n",
    "    \"Diefstal overige vervoersmiddelen\",\n",
    "    \"Diefstal uit of vanaf vervoermiddelen\",\n",
    "    \"Zakkenrollerij, straatroof en beroving\",\n",
    "    \"Woninginbraak (incl schuur, garage(box) en tuinhuis)\",\n",
    "    \"Diefstal/inbraak uit niet-residentiele gebouwen\",\n",
    "    \"Overige diefstal/inbraak\",\n",
    "    \"Overige vermogensmisdrijven\",\n",
    "    \"Vernielingen en misdrijven tegen openbare orde en gezag\",\n",
    "    \"Vernielingen\",\n",
    "    \"Vernieling aan auto\",\n",
    "    \"Overige vernieling\",\n",
    "    \"Misdrijven tegen openbare orde en gezag\",\n",
    "    \"Gewelds- en seksuele misdrijven\",\n",
    "    \"Mishandeling\",\n",
    "    \"Bedreiging en stalking\",\n",
    "    \"Overige gewelds- en seksuele misdrijven\",\n",
    "    \"Totaal vermogen, vernieling en geweld (rel)\",\n",
    "    \"Vermogensmisdrijven (rel)\",\n",
    "    \"Diefstal/inbraak woning (rel)\",\n",
    "    \"Vernieling en openbare orde (rel)\",\n",
    "    \"Gewelds- en seksuele misdrijven (rel)\"\n",
    "    ]"
   ]
  },
  {
   "cell_type": "markdown",
   "metadata": {
    "slideshow": {
     "slide_type": "subslide"
    }
   },
   "source": [
    "Now, define a function `read_crime()` to read in one of the sheets from the spreadsheet."
   ]
  },
  {
   "cell_type": "code",
   "execution_count": null,
   "metadata": {
    "collapsed": false,
    "slideshow": {
     "slide_type": "subslide"
    }
   },
   "outputs": [],
   "source": [
    "def read_crime(url, year):\n",
    "    sheetnames = {\n",
    "        2010:'Tabel 1',\n",
    "        2011:'Tabel 2',\n",
    "        2012:'Tabel 3',\n",
    "        2013:'Tabel 4',\n",
    "        2014:'Tabel 5',\n",
    "        2015:'Tabel 6'\n",
    "        }\n",
    "    try:\n",
    "        sheet = sheetnames[int(year)]\n",
    "    except KeyError:\n",
    "        raise Exception(\"No crime data for the year {} available\".format(year))\n",
    "        \n",
    "    crime_df = pd.read_excel(url, sheetname=sheet,\n",
    "        header=None, names=columns, skiprows=6, na_values=\".\")\n",
    "    # crime_df.fillna(0, inplace=True)\n",
    "    return crime_df"
   ]
  },
  {
   "cell_type": "markdown",
   "metadata": {
    "slideshow": {
     "slide_type": "subslide"
    }
   },
   "source": [
    "Use our function to read in Dutch crime rates from 2015..."
   ]
  },
  {
   "cell_type": "code",
   "execution_count": null,
   "metadata": {
    "collapsed": false
   },
   "outputs": [],
   "source": [
    "crime_2015 = read_crime(cbs_crime_url, 2015)   "
   ]
  },
  {
   "cell_type": "markdown",
   "metadata": {
    "slideshow": {
     "slide_type": "subslide"
    }
   },
   "source": [
    "... and have peek"
   ]
  },
  {
   "cell_type": "code",
   "execution_count": null,
   "metadata": {
    "collapsed": false
   },
   "outputs": [],
   "source": [
    "crime_2015.head()"
   ]
  },
  {
   "cell_type": "markdown",
   "metadata": {
    "slideshow": {
     "slide_type": "subslide"
    }
   },
   "source": [
    "and basic statistics:"
   ]
  },
  {
   "cell_type": "code",
   "execution_count": null,
   "metadata": {
    "collapsed": false
   },
   "outputs": [],
   "source": [
    "crime_2015.describe()"
   ]
  },
  {
   "cell_type": "markdown",
   "metadata": {
    "slideshow": {
     "slide_type": "slide"
    }
   },
   "source": [
    "### Demografic Data\n",
    "\n",
    "Also from the *CBS* is a file `shape 2014 versie 30.zip`\n",
    "with demographic features, as well as geographic date in `shape` format.\n",
    "\n",
    "The zip file contains files for municipalities (gemeenten), districts (wijken) and boroughs (buurten).\n",
    "We will only use the latter.\n",
    "(This was done by unzipping the file and put the contained files `buurt_2014.*` in a folder `buurten`.)"
   ]
  },
  {
   "cell_type": "code",
   "execution_count": null,
   "metadata": {
    "collapsed": false
   },
   "outputs": [],
   "source": [
    "cbs_demographic = 'buurten'"
   ]
  },
  {
   "cell_type": "markdown",
   "metadata": {
    "slideshow": {
     "slide_type": "subslide"
    }
   },
   "source": [
    "Now, we'll create a function `read_shape()` that reads this data."
   ]
  },
  {
   "cell_type": "code",
   "execution_count": null,
   "metadata": {
    "collapsed": true
   },
   "outputs": [],
   "source": [
    "def read_shape(shape_file):\n",
    "    def center(geom):\n",
    "        try:\n",
    "            centroid = geom.representative_point().coords[:][0]\n",
    "        except Exception as e:\n",
    "            x_min, y_min, x_max, y_max = geom.bounds\n",
    "            centroid = (x_min + x_max)/2, (y_min + y_max)/2\n",
    "        return centroid\n",
    "    \n",
    "    df = gpd.read_file(shape_file)\n",
    "    df['center'] = df['geometry'].apply(center)\n",
    "    df = df.where(df > -9999999., gpd.np.NaN)\n",
    "    df['Regiocode'] = df['BU_CODE']\n",
    "    df.set_index(['GM_CODE', 'WK_CODE', 'BU_CODE'], inplace=True)\n",
    "    return df"
   ]
  },
  {
   "cell_type": "markdown",
   "metadata": {
    "slideshow": {
     "slide_type": "subslide"
    }
   },
   "source": [
    "Read in the demographic data for all boroughs in the Netherlands..."
   ]
  },
  {
   "cell_type": "code",
   "execution_count": null,
   "metadata": {
    "collapsed": false
   },
   "outputs": [],
   "source": [
    "nederland = read_shape(cbs_demographic)"
   ]
  },
  {
   "cell_type": "markdown",
   "metadata": {
    "slideshow": {
     "slide_type": "subslide"
    }
   },
   "source": [
    "... and have a preview:"
   ]
  },
  {
   "cell_type": "code",
   "execution_count": null,
   "metadata": {
    "collapsed": false
   },
   "outputs": [],
   "source": [
    "nederland.head()"
   ]
  },
  {
   "cell_type": "markdown",
   "metadata": {
    "slideshow": {
     "slide_type": "slide"
    }
   },
   "source": [
    "## Combining data\n",
    "\n",
    "Next, combine our two datasets.\n",
    "Both have a column `Regiocode`, which is a unique code per borough.\n",
    "This column is used to join the datasets."
   ]
  },
  {
   "cell_type": "code",
   "execution_count": null,
   "metadata": {
    "collapsed": true
   },
   "outputs": [],
   "source": [
    "nl_crime_2015 = nederland.merge(crime_2015, on='Regiocode')"
   ]
  },
  {
   "cell_type": "markdown",
   "metadata": {
    "slideshow": {
     "slide_type": "slide"
    }
   },
   "source": [
    "## Exploring data\n",
    "\n",
    "Wouldn't it be great if we had the tool to quickly explore our data?\n",
    "\n",
    "Well, we have. With *ipywidgets* we can make a UI-wrapper around a simple plot function.\n",
    "\n",
    "If we want to change a single variable we should have a function with just that variable.\n",
    "In this case we want a UI in which we can select the feature to show."
   ]
  },
  {
   "cell_type": "markdown",
   "metadata": {
    "slideshow": {
     "slide_type": "subslide"
    }
   },
   "source": [
    "In the code below you this function is called `do_plot()`.\n",
    "If this function must have a single argument ('`feature`'), then how will we provide the dataset to\n",
    "plot, and possibly any additional arguments?\n",
    "\n",
    "This is done by the function `mk_feature_plot` that creates the function `do_plot()` on the fly,\n",
    "and passes its variables to this created function.\n",
    "In other words, `mk_feature_plot()` is a factory that creates functions.\n",
    "The design pattern is called *closure*."
   ]
  },
  {
   "cell_type": "code",
   "execution_count": null,
   "metadata": {
    "collapsed": true,
    "slideshow": {
     "slide_type": "subslide"
    }
   },
   "outputs": [],
   "source": [
    "def mk_feature_plot(dframe, **kwargs):\n",
    "    new_kwargs = dict(\n",
    "        cmap='OrRd',\n",
    "        linewidth=0.2,\n",
    "        label=False\n",
    "    )\n",
    "    new_kwargs.update(kwargs)\n",
    "\n",
    "    def do_plot(feature):\n",
    "        ax = dframe.plot(column=feature, **new_kwargs)\n",
    "        ax.set_xticks([])\n",
    "        ax.set_yticks([])\n",
    "        ax.set_title(feature)\n",
    "\n",
    "        if new_kwargs['label']:\n",
    "            for idx, row in dframe.iterrows():\n",
    "                plt.annotate(s=row[feature], xy=row['center'],\n",
    "                             horizontalalignment='center', fontsize=6)\n",
    "    return do_plot"
   ]
  },
  {
   "cell_type": "markdown",
   "metadata": {
    "slideshow": {
     "slide_type": "subslide"
    }
   },
   "source": [
    "Create a subset with only the boroughs in Nijmegen."
   ]
  },
  {
   "cell_type": "code",
   "execution_count": null,
   "metadata": {
    "collapsed": false
   },
   "outputs": [],
   "source": [
    "nijmegen = nl_crime_2015[nl_crime_2015['GM_NAAM']=='Nijmegen']"
   ]
  },
  {
   "cell_type": "markdown",
   "metadata": {
    "slideshow": {
     "slide_type": "subslide"
    }
   },
   "source": [
    "The function interact from ipywidgets expects as arguments a function and its arguments.\n",
    "\n",
    "In this case the function has only one argument: `feature`."
   ]
  },
  {
   "cell_type": "code",
   "execution_count": null,
   "metadata": {
    "collapsed": false,
    "scrolled": false,
    "slideshow": {
     "slide_type": "subslide"
    }
   },
   "outputs": [],
   "source": [
    "interact(\n",
    "    mk_feature_plot(nijmegen, alpha=0.7,\n",
    "                    label=True, cmap='seismic'),\n",
    "    feature=list(nijmegen.columns));"
   ]
  },
  {
   "cell_type": "markdown",
   "metadata": {
    "slideshow": {
     "slide_type": "subslide"
    }
   },
   "source": [
    "We can also use a function that takes two arguments: `city` and `feature`.\n",
    "Let's make the function factory `mk_city_feature()` that creates such functions."
   ]
  },
  {
   "cell_type": "code",
   "execution_count": null,
   "metadata": {
    "collapsed": true,
    "slideshow": {
     "slide_type": "subslide"
    }
   },
   "outputs": [],
   "source": [
    "def mk_city_feature_plot(dframe, **kwargs):\n",
    "    new_kwargs = dict(\n",
    "        cmap='OrRd',\n",
    "        linewidth=0.2,\n",
    "        label=False\n",
    "    )\n",
    "    new_kwargs.update(kwargs)\n",
    "\n",
    "    def do_plot(city, feature):\n",
    "        df = dframe[dframe['GM_NAAM']==city]\n",
    "        ax = df.plot(column=feature, **new_kwargs)\n",
    "        ax.set_xticks([])\n",
    "        ax.set_yticks([])\n",
    "        ax.set_title(\"%s in %s\" % (feature, city))\n",
    "\n",
    "        if new_kwargs['label']:\n",
    "            for idx, row in df.iterrows():\n",
    "                plt.annotate(s=row[feature], xy=row['center'],\n",
    "                             horizontalalignment='center', fontsize=6)\n",
    "    return do_plot"
   ]
  },
  {
   "cell_type": "markdown",
   "metadata": {
    "slideshow": {
     "slide_type": "subslide"
    }
   },
   "source": [
    "Now use `interact()` to create a user interface with this function."
   ]
  },
  {
   "cell_type": "code",
   "execution_count": null,
   "metadata": {
    "collapsed": false
   },
   "outputs": [],
   "source": [
    "interact(\n",
    "    mk_city_feature_plot(nl_crime_2015, label=True,\n",
    "                         alpha=0.7, cmap='seismic'),\n",
    "    city=\"Arnhem Overbetuwe Nijmegen Beuningen Groesbeek\".split(),\n",
    "    feature=list(nl_crime_2015.columns));"
   ]
  },
  {
   "cell_type": "markdown",
   "metadata": {
    "slideshow": {
     "slide_type": "slide"
    }
   },
   "source": [
    "## Data massaging\n",
    "\n",
    "Strip the geometric data from the data set and write out in the very efficient `feather` format,"
   ]
  },
  {
   "cell_type": "code",
   "execution_count": null,
   "metadata": {
    "collapsed": false,
    "slideshow": {
     "slide_type": "subslide"
    }
   },
   "outputs": [],
   "source": [
    "nl_crime_2015_no_geo = nl_crime_2015.copy()\n",
    "\n",
    "del nl_crime_2015_no_geo['geometry']\n",
    "del nl_crime_2015_no_geo['center']\n",
    "\n",
    "feather.write_dataframe(nl_crime_2015_no_geo, 'nl_crime_2015.fthr')"
   ]
  },
  {
   "cell_type": "markdown",
   "metadata": {
    "slideshow": {
     "slide_type": "slide"
    }
   },
   "source": [
    "## Machine learning in R\n",
    "\n",
    "The outcome is a model that fits the demographic variables to the  crime rate.\n",
    "A General Linear Model (*GLM*) is created (although, arguably, better model types are applicable).\n",
    "\n",
    "Finally, the model is used to predict crime rates in Nijmegen's boroughs, based on the demographic figures."
   ]
  },
  {
   "cell_type": "markdown",
   "metadata": {},
   "source": [
    "### First import the necessary libraries and start up the h2o machine learning cluster."
   ]
  },
  {
   "cell_type": "code",
   "execution_count": null,
   "metadata": {
    "collapsed": false,
    "slideshow": {
     "slide_type": "subslide"
    }
   },
   "outputs": [],
   "source": [
    "%%R\n",
    "library(h2o)\n",
    "library(feather)\n",
    "library(MASS)\n",
    "localH2O = h2o.init(nthreads = -1)"
   ]
  },
  {
   "cell_type": "markdown",
   "metadata": {},
   "source": [
    "### Pick up the `feather` dataset in R"
   ]
  },
  {
   "cell_type": "code",
   "execution_count": null,
   "metadata": {
    "collapsed": true
   },
   "outputs": [],
   "source": [
    "%%R\n",
    "#Load the data and prepare for modeling\n",
    "nld = read_feather(\"nl_crime_2015.fthr\")\n",
    "nld[sapply(nld, is.character)] <- lapply(nld[sapply(nld, is.character)], as.factor)"
   ]
  },
  {
   "cell_type": "markdown",
   "metadata": {},
   "source": [
    "### Split it into a test set (Nijmegen) and a training set (the rest of the Netherlands)."
   ]
  },
  {
   "cell_type": "code",
   "execution_count": null,
   "metadata": {
    "collapsed": true
   },
   "outputs": [],
   "source": [
    "%%R\n",
    "#make a Nijmegen subset\n",
    "nijmegen = nld[nld$GM_NAAM==\"Nijmegen\",]\n",
    "#make a subset of Netherland w/o Nijmegen\n",
    "rest_van_nld = nld[nld$GM_NAAM!=\"Nijmegen\",]"
   ]
  },
  {
   "cell_type": "markdown",
   "metadata": {},
   "source": [
    "### Upload the data frames to h2o server"
   ]
  },
  {
   "cell_type": "code",
   "execution_count": null,
   "metadata": {
    "collapsed": true
   },
   "outputs": [],
   "source": [
    "%%R\n",
    "#convert into h2o table type\n",
    "nijmegen = as.h2o(nijmegen)\n",
    "rest_van_nld = as.h2o(rest_van_nld)"
   ]
  },
  {
   "cell_type": "markdown",
   "metadata": {},
   "source": [
    "### Fit a statistical model"
   ]
  },
  {
   "cell_type": "code",
   "execution_count": null,
   "metadata": {
    "collapsed": true
   },
   "outputs": [],
   "source": [
    "%%R\n",
    "thecolumns = colnames(rest_van_nld)\n",
    "poisson.fit = h2o.glm(x = thecolumns[1:190], y = \"Vermogen, vernieling en geweld\", rest_van_nld, family = \"poisson\")"
   ]
  },
  {
   "cell_type": "markdown",
   "metadata": {},
   "source": [
    "### Use the trained model to make a prediction for Nijmegen"
   ]
  },
  {
   "cell_type": "code",
   "execution_count": null,
   "metadata": {
    "collapsed": false,
    "nbpresent": {
     "id": "ad66db1b-a0dd-4641-8d30-0eaa8c1b3b90"
    }
   },
   "outputs": [],
   "source": [
    "%%R\n",
    "prediction = predict(poisson.fit, nijmegen)\n",
    "nijmegentotaal = nijmegen\n",
    "nijmegentotaal$prediction = prediction\n",
    "\n",
    "head(nijmegentotaal)"
   ]
  },
  {
   "cell_type": "markdown",
   "metadata": {},
   "source": [
    "### Inspect the model"
   ]
  },
  {
   "cell_type": "code",
   "execution_count": null,
   "metadata": {
    "collapsed": false
   },
   "outputs": [],
   "source": [
    "%%R\n",
    "summary(poisson.fit)"
   ]
  },
  {
   "cell_type": "markdown",
   "metadata": {},
   "source": [
    "### Visualise the results on a map"
   ]
  },
  {
   "cell_type": "markdown",
   "metadata": {},
   "source": [
    "#### Add shape data to dataframe"
   ]
  },
  {
   "cell_type": "code",
   "execution_count": null,
   "metadata": {
    "collapsed": true
   },
   "outputs": [],
   "source": [
    "%%R\n",
    "#read shape info from shapeInfo.csv\n",
    "shapeinfo = read.csv(\"shapeInfo.csv\")"
   ]
  },
  {
   "cell_type": "code",
   "execution_count": null,
   "metadata": {
    "collapsed": false
   },
   "outputs": [],
   "source": [
    "%%R\n",
    "# Merge data frames\n",
    "nijmegentotaal = merge(shapeinfo, nijmegentotaal, by.x=\"BU_CODE\", by.y=\"BU_CODE\")"
   ]
  },
  {
   "cell_type": "markdown",
   "metadata": {},
   "source": [
    "#### Plot the prediction"
   ]
  },
  {
   "cell_type": "code",
   "execution_count": null,
   "metadata": {
    "collapsed": false
   },
   "outputs": [],
   "source": [
    "%%R\n",
    "library(ggplot2)\n",
    "library(ggmap)\n",
    "## Plot data\n",
    "mapCenter <- geocode(\"Nijmegen\")\n",
    "Nijmegen <- get_map(c(lon=mapCenter$lon, lat=mapCenter$lat),zoom = 12)#, maptype = \"terrain\", source=\"stamen\")\n",
    "NijmegenMap <- ggmap(Nijmegen)\n",
    "NijmegenMap <- NijmegenMap +\n",
    "  geom_polygon(aes(x=long, y=lat, group=group, fill=prediction),\n",
    "               size=.2 ,color='black', data=as.data.frame(nijmegentotaal), alpha=0.8) +\n",
    "  scale_fill_gradient(low = \"green\", high = \"red\")\n",
    "NijmegenMap"
   ]
  },
  {
   "cell_type": "markdown",
   "metadata": {},
   "source": [
    "#### Plot the actual data"
   ]
  },
  {
   "cell_type": "code",
   "execution_count": null,
   "metadata": {
    "collapsed": false
   },
   "outputs": [],
   "source": [
    "%%R\n",
    "## Plot data\n",
    "nijmegentotaal$werkelijk = nijmegentotaal$Vermogen..vernieling.en.geweld\n",
    "NijmegenMapWerkelijk <- ggmap(Nijmegen)\n",
    "NijmegenMapWerkelijk <- NijmegenMapWerkelijk +\n",
    "  geom_polygon(aes(x=long, y=lat, group=group, fill=werkelijk),\n",
    "               size=.2 ,color='black', data=as.data.frame(nijmegentotaal), alpha=0.8) +\n",
    "  scale_fill_gradient(low = \"green\", high = \"red\")\n",
    "NijmegenMapWerkelijk"
   ]
  },
  {
   "cell_type": "markdown",
   "metadata": {},
   "source": [
    "#### Plot the difference"
   ]
  },
  {
   "cell_type": "code",
   "execution_count": null,
   "metadata": {
    "collapsed": false
   },
   "outputs": [],
   "source": [
    "%%R\n",
    "nijmegentotaal$verschil = nijmegentotaal$prediction - nijmegentotaal$werkelijk\n",
    "NijmegenMapVerschil <- ggmap(Nijmegen)\n",
    "NijmegenMapVerschil <- NijmegenMapVerschil +\n",
    "  geom_polygon(aes(x=long, y=lat, group=group, fill=verschil),\n",
    "               size=.2 ,color='black', data=as.data.frame(nijmegentotaal), alpha=0.8) +\n",
    "  scale_fill_gradient(low = \"green\", high = \"red\")\n",
    "NijmegenMapVerschil"
   ]
  }
 ],
 "metadata": {
  "anaconda-cloud": {},
  "kernelspec": {
   "display_name": "Python 3",
   "language": "python",
   "name": "python3"
  },
  "language_info": {
   "codemirror_mode": {
    "name": "ipython",
    "version": 3
   },
   "file_extension": ".py",
   "mimetype": "text/x-python",
   "name": "python",
   "nbconvert_exporter": "python",
   "pygments_lexer": "ipython3",
   "version": "3.5.1"
  },
  "widgets": {
   "state": {
    "e64a53c292454eca986b87cdf689dd45": {
     "views": [
      {
       "cell_index": 44
      }
     ]
    },
    "ea4e56354ae94b4c86218c95f0f105cc": {
     "views": [
      {
       "cell_index": 40
      }
     ]
    }
   },
   "version": "1.2.0"
  }
 },
 "nbformat": 4,
 "nbformat_minor": 1
}
